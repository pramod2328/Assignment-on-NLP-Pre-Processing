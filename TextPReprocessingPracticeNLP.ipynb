{
 "cells": [
  {
   "cell_type": "code",
   "execution_count": 22,
   "id": "e5840dd4-ecec-4525-8fdf-58ff177095a7",
   "metadata": {},
   "outputs": [
    {
     "name": "stdout",
     "output_type": "stream",
     "text": [
      "Collecting textblob\n",
      "  Downloading textblob-0.19.0-py3-none-any.whl.metadata (4.4 kB)\n",
      "Requirement already satisfied: nltk>=3.9 in c:\\users\\pramo\\anaconda3\\lib\\site-packages (from textblob) (3.9.1)\n",
      "Requirement already satisfied: click in c:\\users\\pramo\\anaconda3\\lib\\site-packages (from nltk>=3.9->textblob) (8.1.7)\n",
      "Requirement already satisfied: joblib in c:\\users\\pramo\\anaconda3\\lib\\site-packages (from nltk>=3.9->textblob) (1.5.1)\n",
      "Requirement already satisfied: regex>=2021.8.3 in c:\\users\\pramo\\anaconda3\\lib\\site-packages (from nltk>=3.9->textblob) (2024.9.11)\n",
      "Requirement already satisfied: tqdm in c:\\users\\pramo\\anaconda3\\lib\\site-packages (from nltk>=3.9->textblob) (4.66.5)\n",
      "Requirement already satisfied: colorama in c:\\users\\pramo\\anaconda3\\lib\\site-packages (from click->nltk>=3.9->textblob) (0.4.6)\n",
      "Downloading textblob-0.19.0-py3-none-any.whl (624 kB)\n",
      "   ---------------------------------------- 0.0/624.3 kB ? eta -:--:--\n",
      "   ---------------------------------------- 624.3/624.3 kB 5.8 MB/s eta 0:00:00\n",
      "Installing collected packages: textblob\n",
      "Successfully installed textblob-0.19.0\n"
     ]
    }
   ],
   "source": [
    "!pip install -U textblob"
   ]
  },
  {
   "cell_type": "code",
   "execution_count": 26,
   "id": "c1077b02-62e0-424f-875b-61c116fc2fd8",
   "metadata": {},
   "outputs": [
    {
     "name": "stdout",
     "output_type": "stream",
     "text": [
      "Finished.\n"
     ]
    },
    {
     "name": "stderr",
     "output_type": "stream",
     "text": [
      "[nltk_data] Downloading package brown to\n",
      "[nltk_data]     C:\\Users\\pramo\\AppData\\Roaming\\nltk_data...\n",
      "[nltk_data]   Unzipping corpora\\brown.zip.\n",
      "[nltk_data] Downloading package punkt_tab to\n",
      "[nltk_data]     C:\\Users\\pramo\\AppData\\Roaming\\nltk_data...\n",
      "[nltk_data]   Unzipping tokenizers\\punkt_tab.zip.\n",
      "[nltk_data] Downloading package wordnet to\n",
      "[nltk_data]     C:\\Users\\pramo\\AppData\\Roaming\\nltk_data...\n",
      "[nltk_data] Downloading package averaged_perceptron_tagger_eng to\n",
      "[nltk_data]     C:\\Users\\pramo\\AppData\\Roaming\\nltk_data...\n",
      "[nltk_data]   Unzipping taggers\\averaged_perceptron_tagger_eng.zip.\n",
      "[nltk_data] Downloading package conll2000 to\n",
      "[nltk_data]     C:\\Users\\pramo\\AppData\\Roaming\\nltk_data...\n",
      "[nltk_data]   Unzipping corpora\\conll2000.zip.\n",
      "[nltk_data] Downloading package movie_reviews to\n",
      "[nltk_data]     C:\\Users\\pramo\\AppData\\Roaming\\nltk_data...\n",
      "[nltk_data]   Unzipping corpora\\movie_reviews.zip.\n"
     ]
    }
   ],
   "source": [
    "!python -m textblob.download_corpora"
   ]
  },
  {
   "cell_type": "code",
   "execution_count": 2,
   "id": "919dce0a-2be8-4341-aa21-932355c21ef3",
   "metadata": {},
   "outputs": [
    {
     "name": "stdout",
     "output_type": "stream",
     "text": [
      "Requirement already satisfied: nltk in c:\\users\\pramo\\anaconda3\\lib\\site-packages (3.9.1)\n",
      "Requirement already satisfied: click in c:\\users\\pramo\\anaconda3\\lib\\site-packages (from nltk) (8.1.7)\n",
      "Requirement already satisfied: joblib in c:\\users\\pramo\\anaconda3\\lib\\site-packages (from nltk) (1.5.1)\n",
      "Requirement already satisfied: regex>=2021.8.3 in c:\\users\\pramo\\anaconda3\\lib\\site-packages (from nltk) (2024.9.11)\n",
      "Requirement already satisfied: tqdm in c:\\users\\pramo\\anaconda3\\lib\\site-packages (from nltk) (4.66.5)\n",
      "Requirement already satisfied: colorama in c:\\users\\pramo\\anaconda3\\lib\\site-packages (from click->nltk) (0.4.6)\n"
     ]
    }
   ],
   "source": [
    "!pip install nltk"
   ]
  },
  {
   "cell_type": "code",
   "execution_count": 69,
   "id": "5401b1d1-4aed-4c01-a3bd-7ca323d48ef9",
   "metadata": {},
   "outputs": [],
   "source": [
    "import pandas as pd \n",
    "import numpy as np\n",
    "import seaborn as sns\n",
    "import matplotlib.pyplot as plt\n",
    "\n",
    "import nltk\n",
    "from nltk.corpus import stopwords\n",
    "from nltk.stem import PorterStemmer, WordNetLemmatizer\n",
    "import re, string\n",
    "\n",
    "from textblob import TextBlob, Word\n",
    "from warnings import filterwarnings\n",
    "filterwarnings('ignore')"
   ]
  },
  {
   "cell_type": "code",
   "execution_count": 71,
   "id": "778116b7-7ac8-42f0-99ef-b23e01bb4e27",
   "metadata": {},
   "outputs": [],
   "source": [
    "pd.set_option('display.max_columns', 1000)\n",
    "pd.set_option('display.max_rows', 1000)\n",
    "pd.set_option('display.width', 1000)\n",
    "pd.set_option('display.max_colwidth', 10000)"
   ]
  },
  {
   "cell_type": "code",
   "execution_count": 73,
   "id": "021f48bb-7f8c-4a86-bbbc-f04254fad77c",
   "metadata": {},
   "outputs": [],
   "source": [
    "text = \"\"\"\n",
    "Chris Stark, head of the UK's 123 Climate Change Committee, told the BBC he rates government policy on insulation as \"very poor\".\n",
    "Insulation, together with renewable 456 power, is the way out of the current energy crisis, he says.\n",
    "Two-thirds of homes, or 19 million, need better 0000 insulation, according to government data.\n",
    "That raises an obvious question: if it is such a good idea, why aren't we all doing it?\n",
    "The key issue is the cost.\n",
    "Britain is 789 frequently described as having some of the oldest and least energy efficient housing in Europe. Retrofitting - adding insulation to existing homes - can be very expensive and Mr Stark says the government isn't doing enough to help fund this costly work.\n",
    "\"\"\""
   ]
  },
  {
   "cell_type": "code",
   "execution_count": 75,
   "id": "29d79c7f-d328-4d2c-ab44-78c1240e25aa",
   "metadata": {},
   "outputs": [
    {
     "name": "stdout",
     "output_type": "stream",
     "text": [
      "\n",
      "Chris Stark, head of the UK's 123 Climate Change Committee, told the BBC he rates government policy on insulation as \"very poor\".\n",
      "Insulation, together with renewable 456 power, is the way out of the current energy crisis, he says.\n",
      "Two-thirds of homes, or 19 million, need better 0000 insulation, according to government data.\n",
      "That raises an obvious question: if it is such a good idea, why aren't we all doing it?\n",
      "The key issue is the cost.\n",
      "Britain is 789 frequently described as having some of the oldest and least energy efficient housing in Europe. Retrofitting - adding insulation to existing homes - can be very expensive and Mr Stark says the government isn't doing enough to help fund this costly work.\n",
      "\n"
     ]
    }
   ],
   "source": [
    "print(text)"
   ]
  },
  {
   "cell_type": "code",
   "execution_count": 77,
   "id": "459deec8-eb9c-4b52-ad42-69804261d6e3",
   "metadata": {},
   "outputs": [],
   "source": [
    "text_backup = text"
   ]
  },
  {
   "cell_type": "code",
   "execution_count": 79,
   "id": "4dde6a00-c319-4399-91a1-543592e4495f",
   "metadata": {},
   "outputs": [
    {
     "data": {
      "text/plain": [
       "['Chris',\n",
       " 'Stark,',\n",
       " 'head',\n",
       " 'of',\n",
       " 'the',\n",
       " \"UK's\",\n",
       " '123',\n",
       " 'Climate',\n",
       " 'Change',\n",
       " 'Committee,']"
      ]
     },
     "execution_count": 79,
     "metadata": {},
     "output_type": "execute_result"
    }
   ],
   "source": [
    "text.split()[:10]"
   ]
  },
  {
   "cell_type": "code",
   "execution_count": 81,
   "id": "b2109325-7f67-456b-af99-3097a992b8b3",
   "metadata": {},
   "outputs": [
    {
     "data": {
      "text/plain": [
       "['',\n",
       " 'Chris Stark, head of the UK\\'s 123 Climate Change Committee, told the BBC he rates government policy on insulation as \"very poor\".',\n",
       " 'Insulation, together with renewable 456 power, is the way out of the current energy crisis, he says.',\n",
       " 'Two-thirds of homes, or 19 million, need better 0000 insulation, according to government data.',\n",
       " \"That raises an obvious question: if it is such a good idea, why aren't we all doing it?\",\n",
       " 'The key issue is the cost.',\n",
       " \"Britain is 789 frequently described as having some of the oldest and least energy efficient housing in Europe. Retrofitting - adding insulation to existing homes - can be very expensive and Mr Stark says the government isn't doing enough to help fund this costly work.\",\n",
       " '']"
      ]
     },
     "execution_count": 81,
     "metadata": {},
     "output_type": "execute_result"
    }
   ],
   "source": [
    "text.split(\"\\n\")"
   ]
  },
  {
   "cell_type": "code",
   "execution_count": 83,
   "id": "36b0db10-716b-4789-9fde-682ae6e5dd3d",
   "metadata": {},
   "outputs": [],
   "source": [
    "text_sentence = text.split(\"\\n\")"
   ]
  },
  {
   "cell_type": "code",
   "execution_count": 85,
   "id": "a3f393e6-b112-4198-8f6b-e93692734dfb",
   "metadata": {},
   "outputs": [],
   "source": [
    "text_to_series = pd.Series(text_sentence)"
   ]
  },
  {
   "cell_type": "code",
   "execution_count": 87,
   "id": "4740582e-9687-46bf-be17-257c534dc162",
   "metadata": {},
   "outputs": [
    {
     "data": {
      "text/plain": [
       "0                                                                                                                                                                                                                                                                                \n",
       "1                                                                                                                                               Chris Stark, head of the UK's 123 Climate Change Committee, told the BBC he rates government policy on insulation as \"very poor\".\n",
       "2                                                                                                                                                                            Insulation, together with renewable 456 power, is the way out of the current energy crisis, he says.\n",
       "3                                                                                                                                                                                  Two-thirds of homes, or 19 million, need better 0000 insulation, according to government data.\n",
       "4                                                                                                                                                                                         That raises an obvious question: if it is such a good idea, why aren't we all doing it?\n",
       "5                                                                                                                                                                                                                                                      The key issue is the cost.\n",
       "6    Britain is 789 frequently described as having some of the oldest and least energy efficient housing in Europe. Retrofitting - adding insulation to existing homes - can be very expensive and Mr Stark says the government isn't doing enough to help fund this costly work.\n",
       "7                                                                                                                                                                                                                                                                                \n",
       "dtype: object"
      ]
     },
     "execution_count": 87,
     "metadata": {},
     "output_type": "execute_result"
    }
   ],
   "source": [
    "text_to_series"
   ]
  },
  {
   "cell_type": "code",
   "execution_count": 89,
   "id": "d05c7c57-7afd-45f6-82fd-9ba9d8b12104",
   "metadata": {},
   "outputs": [],
   "source": [
    "text_vector = text_to_series[1:len(text_to_series)-1]"
   ]
  },
  {
   "cell_type": "code",
   "execution_count": 91,
   "id": "6413142d-2aa5-4f80-829a-bf2aa5db0a7b",
   "metadata": {},
   "outputs": [
    {
     "data": {
      "text/plain": [
       "1                                                                                                                                               Chris Stark, head of the UK's 123 Climate Change Committee, told the BBC he rates government policy on insulation as \"very poor\".\n",
       "2                                                                                                                                                                            Insulation, together with renewable 456 power, is the way out of the current energy crisis, he says.\n",
       "3                                                                                                                                                                                  Two-thirds of homes, or 19 million, need better 0000 insulation, according to government data.\n",
       "4                                                                                                                                                                                         That raises an obvious question: if it is such a good idea, why aren't we all doing it?\n",
       "5                                                                                                                                                                                                                                                      The key issue is the cost.\n",
       "6    Britain is 789 frequently described as having some of the oldest and least energy efficient housing in Europe. Retrofitting - adding insulation to existing homes - can be very expensive and Mr Stark says the government isn't doing enough to help fund this costly work.\n",
       "dtype: object"
      ]
     },
     "execution_count": 91,
     "metadata": {},
     "output_type": "execute_result"
    }
   ],
   "source": [
    "text_vector"
   ]
  },
  {
   "cell_type": "code",
   "execution_count": 93,
   "id": "733d0d57-1367-47ad-999d-608862572767",
   "metadata": {},
   "outputs": [],
   "source": [
    "text_df = pd.DataFrame(text_vector, columns = ['sentences'])"
   ]
  },
  {
   "cell_type": "code",
   "execution_count": 95,
   "id": "c353ee1d-f3ab-4f12-a800-563cb672aaf9",
   "metadata": {},
   "outputs": [
    {
     "data": {
      "text/html": [
       "<div>\n",
       "<style scoped>\n",
       "    .dataframe tbody tr th:only-of-type {\n",
       "        vertical-align: middle;\n",
       "    }\n",
       "\n",
       "    .dataframe tbody tr th {\n",
       "        vertical-align: top;\n",
       "    }\n",
       "\n",
       "    .dataframe thead th {\n",
       "        text-align: right;\n",
       "    }\n",
       "</style>\n",
       "<table border=\"1\" class=\"dataframe\">\n",
       "  <thead>\n",
       "    <tr style=\"text-align: right;\">\n",
       "      <th></th>\n",
       "      <th>sentences</th>\n",
       "    </tr>\n",
       "  </thead>\n",
       "  <tbody>\n",
       "    <tr>\n",
       "      <th>1</th>\n",
       "      <td>Chris Stark, head of the UK's 123 Climate Change Committee, told the BBC he rates government policy on insulation as \"very poor\".</td>\n",
       "    </tr>\n",
       "    <tr>\n",
       "      <th>2</th>\n",
       "      <td>Insulation, together with renewable 456 power, is the way out of the current energy crisis, he says.</td>\n",
       "    </tr>\n",
       "    <tr>\n",
       "      <th>3</th>\n",
       "      <td>Two-thirds of homes, or 19 million, need better 0000 insulation, according to government data.</td>\n",
       "    </tr>\n",
       "    <tr>\n",
       "      <th>4</th>\n",
       "      <td>That raises an obvious question: if it is such a good idea, why aren't we all doing it?</td>\n",
       "    </tr>\n",
       "    <tr>\n",
       "      <th>5</th>\n",
       "      <td>The key issue is the cost.</td>\n",
       "    </tr>\n",
       "    <tr>\n",
       "      <th>6</th>\n",
       "      <td>Britain is 789 frequently described as having some of the oldest and least energy efficient housing in Europe. Retrofitting - adding insulation to existing homes - can be very expensive and Mr Stark says the government isn't doing enough to help fund this costly work.</td>\n",
       "    </tr>\n",
       "  </tbody>\n",
       "</table>\n",
       "</div>"
      ],
      "text/plain": [
       "                                                                                                                                                                                                                                                                      sentences\n",
       "1                                                                                                                                             Chris Stark, head of the UK's 123 Climate Change Committee, told the BBC he rates government policy on insulation as \"very poor\".\n",
       "2                                                                                                                                                                          Insulation, together with renewable 456 power, is the way out of the current energy crisis, he says.\n",
       "3                                                                                                                                                                                Two-thirds of homes, or 19 million, need better 0000 insulation, according to government data.\n",
       "4                                                                                                                                                                                       That raises an obvious question: if it is such a good idea, why aren't we all doing it?\n",
       "5                                                                                                                                                                                                                                                    The key issue is the cost.\n",
       "6  Britain is 789 frequently described as having some of the oldest and least energy efficient housing in Europe. Retrofitting - adding insulation to existing homes - can be very expensive and Mr Stark says the government isn't doing enough to help fund this costly work."
      ]
     },
     "execution_count": 95,
     "metadata": {},
     "output_type": "execute_result"
    }
   ],
   "source": [
    "text_df"
   ]
  },
  {
   "cell_type": "code",
   "execution_count": 97,
   "id": "eb773c0f-d72d-469d-8901-99f33014d0fe",
   "metadata": {},
   "outputs": [],
   "source": [
    "text_df_backup = text_df.copy()"
   ]
  },
  {
   "cell_type": "markdown",
   "id": "9b1869f7-71fd-4ce6-a2a7-617fcb738a65",
   "metadata": {},
   "source": [
    "# Case Conersion :- convert uppercase characters to lower case"
   ]
  },
  {
   "cell_type": "code",
   "execution_count": 100,
   "id": "d466dbe7-3415-4aa7-919b-9898277cbfd2",
   "metadata": {},
   "outputs": [],
   "source": [
    "tdf = text_df.copy()"
   ]
  },
  {
   "cell_type": "code",
   "execution_count": 102,
   "id": "428a3a05-4ac9-4f55-abed-f501e9d1c83e",
   "metadata": {},
   "outputs": [
    {
     "data": {
      "text/plain": [
       "1                                                                                                                                               Chris Stark, head of the UK's 123 Climate Change Committee, told the BBC he rates government policy on insulation as \"very poor\".\n",
       "2                                                                                                                                                                            Insulation, together with renewable 456 power, is the way out of the current energy crisis, he says.\n",
       "3                                                                                                                                                                                  Two-thirds of homes, or 19 million, need better 0000 insulation, according to government data.\n",
       "4                                                                                                                                                                                         That raises an obvious question: if it is such a good idea, why aren't we all doing it?\n",
       "5                                                                                                                                                                                                                                                      The key issue is the cost.\n",
       "6    Britain is 789 frequently described as having some of the oldest and least energy efficient housing in Europe. Retrofitting - adding insulation to existing homes - can be very expensive and Mr Stark says the government isn't doing enough to help fund this costly work.\n",
       "Name: sentences, dtype: object"
      ]
     },
     "execution_count": 102,
     "metadata": {},
     "output_type": "execute_result"
    }
   ],
   "source": [
    "tdf['sentences']"
   ]
  },
  {
   "cell_type": "code",
   "execution_count": 104,
   "id": "cdd7e72a-26a2-4925-bd40-2bed7df2a675",
   "metadata": {},
   "outputs": [],
   "source": [
    "tdf[\"lowercase_sentences\"]= tdf['sentences'].apply(lambda x: \" \" .join(x.lower() for x in x.split()))"
   ]
  },
  {
   "cell_type": "code",
   "execution_count": 106,
   "id": "aeca6fd6-9962-496b-9743-266bf1dd68f1",
   "metadata": {},
   "outputs": [
    {
     "data": {
      "text/html": [
       "<div>\n",
       "<style scoped>\n",
       "    .dataframe tbody tr th:only-of-type {\n",
       "        vertical-align: middle;\n",
       "    }\n",
       "\n",
       "    .dataframe tbody tr th {\n",
       "        vertical-align: top;\n",
       "    }\n",
       "\n",
       "    .dataframe thead th {\n",
       "        text-align: right;\n",
       "    }\n",
       "</style>\n",
       "<table border=\"1\" class=\"dataframe\">\n",
       "  <thead>\n",
       "    <tr style=\"text-align: right;\">\n",
       "      <th></th>\n",
       "      <th>sentences</th>\n",
       "      <th>lowercase_sentences</th>\n",
       "    </tr>\n",
       "  </thead>\n",
       "  <tbody>\n",
       "    <tr>\n",
       "      <th>1</th>\n",
       "      <td>Chris Stark, head of the UK's 123 Climate Change Committee, told the BBC he rates government policy on insulation as \"very poor\".</td>\n",
       "      <td>chris stark, head of the uk's 123 climate change committee, told the bbc he rates government policy on insulation as \"very poor\".</td>\n",
       "    </tr>\n",
       "    <tr>\n",
       "      <th>2</th>\n",
       "      <td>Insulation, together with renewable 456 power, is the way out of the current energy crisis, he says.</td>\n",
       "      <td>insulation, together with renewable 456 power, is the way out of the current energy crisis, he says.</td>\n",
       "    </tr>\n",
       "    <tr>\n",
       "      <th>3</th>\n",
       "      <td>Two-thirds of homes, or 19 million, need better 0000 insulation, according to government data.</td>\n",
       "      <td>two-thirds of homes, or 19 million, need better 0000 insulation, according to government data.</td>\n",
       "    </tr>\n",
       "    <tr>\n",
       "      <th>4</th>\n",
       "      <td>That raises an obvious question: if it is such a good idea, why aren't we all doing it?</td>\n",
       "      <td>that raises an obvious question: if it is such a good idea, why aren't we all doing it?</td>\n",
       "    </tr>\n",
       "    <tr>\n",
       "      <th>5</th>\n",
       "      <td>The key issue is the cost.</td>\n",
       "      <td>the key issue is the cost.</td>\n",
       "    </tr>\n",
       "  </tbody>\n",
       "</table>\n",
       "</div>"
      ],
      "text/plain": [
       "                                                                                                                           sentences                                                                                                                lowercase_sentences\n",
       "1  Chris Stark, head of the UK's 123 Climate Change Committee, told the BBC he rates government policy on insulation as \"very poor\".  chris stark, head of the uk's 123 climate change committee, told the bbc he rates government policy on insulation as \"very poor\".\n",
       "2                               Insulation, together with renewable 456 power, is the way out of the current energy crisis, he says.                               insulation, together with renewable 456 power, is the way out of the current energy crisis, he says.\n",
       "3                                     Two-thirds of homes, or 19 million, need better 0000 insulation, according to government data.                                     two-thirds of homes, or 19 million, need better 0000 insulation, according to government data.\n",
       "4                                            That raises an obvious question: if it is such a good idea, why aren't we all doing it?                                            that raises an obvious question: if it is such a good idea, why aren't we all doing it?\n",
       "5                                                                                                         The key issue is the cost.                                                                                                         the key issue is the cost."
      ]
     },
     "execution_count": 106,
     "metadata": {},
     "output_type": "execute_result"
    }
   ],
   "source": [
    "tdf.head()"
   ]
  },
  {
   "cell_type": "markdown",
   "id": "c9247491-96b8-4820-98fa-678019fb11d4",
   "metadata": {},
   "source": [
    "# Removing Punctuations"
   ]
  },
  {
   "cell_type": "code",
   "execution_count": 109,
   "id": "878a592c-aefb-4d2d-8fc7-fc07e4b46396",
   "metadata": {},
   "outputs": [
    {
     "data": {
      "text/plain": [
       "'!\"#$%&\\'()*+,-./:;<=>?@[\\\\]^_`{|}~'"
      ]
     },
     "execution_count": 109,
     "metadata": {},
     "output_type": "execute_result"
    }
   ],
   "source": [
    "# checking punctuations in string\n",
    "str_pun=string.punctuation\n",
    "str_pun"
   ]
  },
  {
   "cell_type": "code",
   "execution_count": 158,
   "id": "76c1ddee-d0f5-47f9-95f2-d967aa95adf5",
   "metadata": {},
   "outputs": [],
   "source": [
    "import re\n",
    "tdf['removing_punctuations']= tdf['lowercase_sentences'].str.replace(re.sub(r'[^\\w\\s]', '', text),\"\")"
   ]
  },
  {
   "cell_type": "code",
   "execution_count": 160,
   "id": "e70d666e-3ea2-466b-ada1-787a7a80226c",
   "metadata": {},
   "outputs": [
    {
     "data": {
      "text/html": [
       "<div>\n",
       "<style scoped>\n",
       "    .dataframe tbody tr th:only-of-type {\n",
       "        vertical-align: middle;\n",
       "    }\n",
       "\n",
       "    .dataframe tbody tr th {\n",
       "        vertical-align: top;\n",
       "    }\n",
       "\n",
       "    .dataframe thead th {\n",
       "        text-align: right;\n",
       "    }\n",
       "</style>\n",
       "<table border=\"1\" class=\"dataframe\">\n",
       "  <thead>\n",
       "    <tr style=\"text-align: right;\">\n",
       "      <th></th>\n",
       "      <th>sentences</th>\n",
       "      <th>lowercase_sentences</th>\n",
       "      <th>removing_punctuations</th>\n",
       "      <th>numbers_removed</th>\n",
       "      <th>removed_stopwords</th>\n",
       "    </tr>\n",
       "  </thead>\n",
       "  <tbody>\n",
       "    <tr>\n",
       "      <th>1</th>\n",
       "      <td>Chris Stark, head of the UK's 123 Climate Change Committee, told the BBC he rates government policy on insulation as \"very poor\".</td>\n",
       "      <td>chris stark, head of the uk's 123 climate change committee, told the bbc he rates government policy on insulation as \"very poor\".</td>\n",
       "      <td>chris stark, head of the uk's 123 climate change committee, told the bbc he rates government policy on insulation as \"very poor\".</td>\n",
       "      <td>chris stark, head of the uk's 123 climate change committee, told the bbc he rates government policy on insulation as \"very poor\".</td>\n",
       "      <td>chris stark, head uk's 123 climate change committee, told bbc rates government policy insulation \"very poor\".</td>\n",
       "    </tr>\n",
       "    <tr>\n",
       "      <th>2</th>\n",
       "      <td>Insulation, together with renewable 456 power, is the way out of the current energy crisis, he says.</td>\n",
       "      <td>insulation, together with renewable 456 power, is the way out of the current energy crisis, he says.</td>\n",
       "      <td>insulation, together with renewable 456 power, is the way out of the current energy crisis, he says.</td>\n",
       "      <td>insulation, together with renewable 456 power, is the way out of the current energy crisis, he says.</td>\n",
       "      <td>insulation, together renewable 456 power, way current energy crisis, says.</td>\n",
       "    </tr>\n",
       "    <tr>\n",
       "      <th>3</th>\n",
       "      <td>Two-thirds of homes, or 19 million, need better 0000 insulation, according to government data.</td>\n",
       "      <td>two-thirds of homes, or 19 million, need better 0000 insulation, according to government data.</td>\n",
       "      <td>two-thirds of homes, or 19 million, need better 0000 insulation, according to government data.</td>\n",
       "      <td>two-thirds of homes, or 19 million, need better 0000 insulation, according to government data.</td>\n",
       "      <td>two-thirds homes, 19 million, need better 0000 insulation, according government data.</td>\n",
       "    </tr>\n",
       "    <tr>\n",
       "      <th>4</th>\n",
       "      <td>That raises an obvious question: if it is such a good idea, why aren't we all doing it?</td>\n",
       "      <td>that raises an obvious question: if it is such a good idea, why aren't we all doing it?</td>\n",
       "      <td>that raises an obvious question: if it is such a good idea, why aren't we all doing it?</td>\n",
       "      <td>that raises an obvious question: if it is such a good idea, why aren't we all doing it?</td>\n",
       "      <td>raises obvious question: good idea, it?</td>\n",
       "    </tr>\n",
       "    <tr>\n",
       "      <th>5</th>\n",
       "      <td>The key issue is the cost.</td>\n",
       "      <td>the key issue is the cost.</td>\n",
       "      <td>the key issue is the cost.</td>\n",
       "      <td>the key issue is the cost.</td>\n",
       "      <td>key issue cost.</td>\n",
       "    </tr>\n",
       "  </tbody>\n",
       "</table>\n",
       "</div>"
      ],
      "text/plain": [
       "                                                                                                                           sentences                                                                                                                lowercase_sentences                                                                                                              removing_punctuations                                                                                                                    numbers_removed                                                                                              removed_stopwords\n",
       "1  Chris Stark, head of the UK's 123 Climate Change Committee, told the BBC he rates government policy on insulation as \"very poor\".  chris stark, head of the uk's 123 climate change committee, told the bbc he rates government policy on insulation as \"very poor\".  chris stark, head of the uk's 123 climate change committee, told the bbc he rates government policy on insulation as \"very poor\".  chris stark, head of the uk's 123 climate change committee, told the bbc he rates government policy on insulation as \"very poor\".  chris stark, head uk's 123 climate change committee, told bbc rates government policy insulation \"very poor\".\n",
       "2                               Insulation, together with renewable 456 power, is the way out of the current energy crisis, he says.                               insulation, together with renewable 456 power, is the way out of the current energy crisis, he says.                               insulation, together with renewable 456 power, is the way out of the current energy crisis, he says.                               insulation, together with renewable 456 power, is the way out of the current energy crisis, he says.                                     insulation, together renewable 456 power, way current energy crisis, says.\n",
       "3                                     Two-thirds of homes, or 19 million, need better 0000 insulation, according to government data.                                     two-thirds of homes, or 19 million, need better 0000 insulation, according to government data.                                     two-thirds of homes, or 19 million, need better 0000 insulation, according to government data.                                     two-thirds of homes, or 19 million, need better 0000 insulation, according to government data.                          two-thirds homes, 19 million, need better 0000 insulation, according government data.\n",
       "4                                            That raises an obvious question: if it is such a good idea, why aren't we all doing it?                                            that raises an obvious question: if it is such a good idea, why aren't we all doing it?                                            that raises an obvious question: if it is such a good idea, why aren't we all doing it?                                            that raises an obvious question: if it is such a good idea, why aren't we all doing it?                                                                        raises obvious question: good idea, it?\n",
       "5                                                                                                         The key issue is the cost.                                                                                                         the key issue is the cost.                                                                                                         the key issue is the cost.                                                                                                         the key issue is the cost.                                                                                                key issue cost."
      ]
     },
     "execution_count": 160,
     "metadata": {},
     "output_type": "execute_result"
    }
   ],
   "source": [
    "tdf.head()"
   ]
  },
  {
   "cell_type": "code",
   "execution_count": 143,
   "id": "b7daa95f-44af-4fc6-bec3-c3890746c474",
   "metadata": {},
   "outputs": [
    {
     "data": {
      "text/html": [
       "<div>\n",
       "<style scoped>\n",
       "    .dataframe tbody tr th:only-of-type {\n",
       "        vertical-align: middle;\n",
       "    }\n",
       "\n",
       "    .dataframe tbody tr th {\n",
       "        vertical-align: top;\n",
       "    }\n",
       "\n",
       "    .dataframe thead th {\n",
       "        text-align: right;\n",
       "    }\n",
       "</style>\n",
       "<table border=\"1\" class=\"dataframe\">\n",
       "  <thead>\n",
       "    <tr style=\"text-align: right;\">\n",
       "      <th></th>\n",
       "      <th>sentences</th>\n",
       "    </tr>\n",
       "  </thead>\n",
       "  <tbody>\n",
       "    <tr>\n",
       "      <th>1</th>\n",
       "      <td>Chris Stark, head of the UK's 123 Climate Change Committee, told the BBC he rates government policy on insulation as \"very poor\".</td>\n",
       "    </tr>\n",
       "    <tr>\n",
       "      <th>2</th>\n",
       "      <td>Insulation, together with renewable 456 power, is the way out of the current energy crisis, he says.</td>\n",
       "    </tr>\n",
       "    <tr>\n",
       "      <th>3</th>\n",
       "      <td>Two-thirds of homes, or 19 million, need better 0000 insulation, according to government data.</td>\n",
       "    </tr>\n",
       "    <tr>\n",
       "      <th>4</th>\n",
       "      <td>That raises an obvious question: if it is such a good idea, why aren't we all doing it?</td>\n",
       "    </tr>\n",
       "    <tr>\n",
       "      <th>5</th>\n",
       "      <td>The key issue is the cost.</td>\n",
       "    </tr>\n",
       "  </tbody>\n",
       "</table>\n",
       "</div>"
      ],
      "text/plain": [
       "                                                                                                                           sentences\n",
       "1  Chris Stark, head of the UK's 123 Climate Change Committee, told the BBC he rates government policy on insulation as \"very poor\".\n",
       "2                               Insulation, together with renewable 456 power, is the way out of the current energy crisis, he says.\n",
       "3                                     Two-thirds of homes, or 19 million, need better 0000 insulation, according to government data.\n",
       "4                                            That raises an obvious question: if it is such a good idea, why aren't we all doing it?\n",
       "5                                                                                                         The key issue is the cost."
      ]
     },
     "execution_count": 143,
     "metadata": {},
     "output_type": "execute_result"
    }
   ],
   "source": [
    "text_df_backup.head()"
   ]
  },
  {
   "cell_type": "markdown",
   "id": "818f7214-e8dd-4e5e-9581-7c5d8d73a66c",
   "metadata": {},
   "source": [
    "# Removing numbers and digits"
   ]
  },
  {
   "cell_type": "code",
   "execution_count": 146,
   "id": "34f4fb50-8464-4efd-a83b-9de84c51ff67",
   "metadata": {},
   "outputs": [],
   "source": [
    "tdf[\"numbers_removed\"]= tdf[\"removing_punctuations\"].str.replace(\"\\d\",\"\")"
   ]
  },
  {
   "cell_type": "code",
   "execution_count": 148,
   "id": "980c0daa-e7ab-4ab0-9df1-22060997be36",
   "metadata": {},
   "outputs": [
    {
     "data": {
      "text/html": [
       "<div>\n",
       "<style scoped>\n",
       "    .dataframe tbody tr th:only-of-type {\n",
       "        vertical-align: middle;\n",
       "    }\n",
       "\n",
       "    .dataframe tbody tr th {\n",
       "        vertical-align: top;\n",
       "    }\n",
       "\n",
       "    .dataframe thead th {\n",
       "        text-align: right;\n",
       "    }\n",
       "</style>\n",
       "<table border=\"1\" class=\"dataframe\">\n",
       "  <thead>\n",
       "    <tr style=\"text-align: right;\">\n",
       "      <th></th>\n",
       "      <th>sentences</th>\n",
       "      <th>lowercase_sentences</th>\n",
       "      <th>removing_punctuations</th>\n",
       "      <th>numbers_removed</th>\n",
       "    </tr>\n",
       "  </thead>\n",
       "  <tbody>\n",
       "    <tr>\n",
       "      <th>1</th>\n",
       "      <td>Chris Stark, head of the UK's 123 Climate Change Committee, told the BBC he rates government policy on insulation as \"very poor\".</td>\n",
       "      <td>chris stark, head of the uk's 123 climate change committee, told the bbc he rates government policy on insulation as \"very poor\".</td>\n",
       "      <td>chris stark, head of the uk's 123 climate change committee, told the bbc he rates government policy on insulation as \"very poor\".</td>\n",
       "      <td>chris stark, head of the uk's 123 climate change committee, told the bbc he rates government policy on insulation as \"very poor\".</td>\n",
       "    </tr>\n",
       "    <tr>\n",
       "      <th>2</th>\n",
       "      <td>Insulation, together with renewable 456 power, is the way out of the current energy crisis, he says.</td>\n",
       "      <td>insulation, together with renewable 456 power, is the way out of the current energy crisis, he says.</td>\n",
       "      <td>insulation, together with renewable 456 power, is the way out of the current energy crisis, he says.</td>\n",
       "      <td>insulation, together with renewable 456 power, is the way out of the current energy crisis, he says.</td>\n",
       "    </tr>\n",
       "    <tr>\n",
       "      <th>3</th>\n",
       "      <td>Two-thirds of homes, or 19 million, need better 0000 insulation, according to government data.</td>\n",
       "      <td>two-thirds of homes, or 19 million, need better 0000 insulation, according to government data.</td>\n",
       "      <td>two-thirds of homes, or 19 million, need better 0000 insulation, according to government data.</td>\n",
       "      <td>two-thirds of homes, or 19 million, need better 0000 insulation, according to government data.</td>\n",
       "    </tr>\n",
       "    <tr>\n",
       "      <th>4</th>\n",
       "      <td>That raises an obvious question: if it is such a good idea, why aren't we all doing it?</td>\n",
       "      <td>that raises an obvious question: if it is such a good idea, why aren't we all doing it?</td>\n",
       "      <td>that raises an obvious question: if it is such a good idea, why aren't we all doing it?</td>\n",
       "      <td>that raises an obvious question: if it is such a good idea, why aren't we all doing it?</td>\n",
       "    </tr>\n",
       "    <tr>\n",
       "      <th>5</th>\n",
       "      <td>The key issue is the cost.</td>\n",
       "      <td>the key issue is the cost.</td>\n",
       "      <td>the key issue is the cost.</td>\n",
       "      <td>the key issue is the cost.</td>\n",
       "    </tr>\n",
       "    <tr>\n",
       "      <th>6</th>\n",
       "      <td>Britain is 789 frequently described as having some of the oldest and least energy efficient housing in Europe. Retrofitting - adding insulation to existing homes - can be very expensive and Mr Stark says the government isn't doing enough to help fund this costly work.</td>\n",
       "      <td>britain is 789 frequently described as having some of the oldest and least energy efficient housing in europe. retrofitting - adding insulation to existing homes - can be very expensive and mr stark says the government isn't doing enough to help fund this costly work.</td>\n",
       "      <td>britain is 789 frequently described as having some of the oldest and least energy efficient housing in europe. retrofitting - adding insulation to existing homes - can be very expensive and mr stark says the government isn't doing enough to help fund this costly work.</td>\n",
       "      <td>britain is 789 frequently described as having some of the oldest and least energy efficient housing in europe. retrofitting - adding insulation to existing homes - can be very expensive and mr stark says the government isn't doing enough to help fund this costly work.</td>\n",
       "    </tr>\n",
       "  </tbody>\n",
       "</table>\n",
       "</div>"
      ],
      "text/plain": [
       "                                                                                                                                                                                                                                                                      sentences                                                                                                                                                                                                                                                           lowercase_sentences                                                                                                                                                                                                                                                         removing_punctuations  \\\n",
       "1                                                                                                                                             Chris Stark, head of the UK's 123 Climate Change Committee, told the BBC he rates government policy on insulation as \"very poor\".                                                                                                                                             chris stark, head of the uk's 123 climate change committee, told the bbc he rates government policy on insulation as \"very poor\".                                                                                                                                             chris stark, head of the uk's 123 climate change committee, told the bbc he rates government policy on insulation as \"very poor\".   \n",
       "2                                                                                                                                                                          Insulation, together with renewable 456 power, is the way out of the current energy crisis, he says.                                                                                                                                                                          insulation, together with renewable 456 power, is the way out of the current energy crisis, he says.                                                                                                                                                                          insulation, together with renewable 456 power, is the way out of the current energy crisis, he says.   \n",
       "3                                                                                                                                                                                Two-thirds of homes, or 19 million, need better 0000 insulation, according to government data.                                                                                                                                                                                two-thirds of homes, or 19 million, need better 0000 insulation, according to government data.                                                                                                                                                                                two-thirds of homes, or 19 million, need better 0000 insulation, according to government data.   \n",
       "4                                                                                                                                                                                       That raises an obvious question: if it is such a good idea, why aren't we all doing it?                                                                                                                                                                                       that raises an obvious question: if it is such a good idea, why aren't we all doing it?                                                                                                                                                                                       that raises an obvious question: if it is such a good idea, why aren't we all doing it?   \n",
       "5                                                                                                                                                                                                                                                    The key issue is the cost.                                                                                                                                                                                                                                                    the key issue is the cost.                                                                                                                                                                                                                                                    the key issue is the cost.   \n",
       "6  Britain is 789 frequently described as having some of the oldest and least energy efficient housing in Europe. Retrofitting - adding insulation to existing homes - can be very expensive and Mr Stark says the government isn't doing enough to help fund this costly work.  britain is 789 frequently described as having some of the oldest and least energy efficient housing in europe. retrofitting - adding insulation to existing homes - can be very expensive and mr stark says the government isn't doing enough to help fund this costly work.  britain is 789 frequently described as having some of the oldest and least energy efficient housing in europe. retrofitting - adding insulation to existing homes - can be very expensive and mr stark says the government isn't doing enough to help fund this costly work.   \n",
       "\n",
       "                                                                                                                                                                                                                                                                numbers_removed  \n",
       "1                                                                                                                                             chris stark, head of the uk's 123 climate change committee, told the bbc he rates government policy on insulation as \"very poor\".  \n",
       "2                                                                                                                                                                          insulation, together with renewable 456 power, is the way out of the current energy crisis, he says.  \n",
       "3                                                                                                                                                                                two-thirds of homes, or 19 million, need better 0000 insulation, according to government data.  \n",
       "4                                                                                                                                                                                       that raises an obvious question: if it is such a good idea, why aren't we all doing it?  \n",
       "5                                                                                                                                                                                                                                                    the key issue is the cost.  \n",
       "6  britain is 789 frequently described as having some of the oldest and least energy efficient housing in europe. retrofitting - adding insulation to existing homes - can be very expensive and mr stark says the government isn't doing enough to help fund this costly work.  "
      ]
     },
     "execution_count": 148,
     "metadata": {},
     "output_type": "execute_result"
    }
   ],
   "source": [
    "tdf"
   ]
  },
  {
   "cell_type": "code",
   "execution_count": 133,
   "id": "563e53fa-b13a-44d8-b267-6dc9adb38cbd",
   "metadata": {},
   "outputs": [
    {
     "name": "stderr",
     "output_type": "stream",
     "text": [
      "[nltk_data] Downloading package stopwords to\n",
      "[nltk_data]     C:\\Users\\pramo\\AppData\\Roaming\\nltk_data...\n",
      "[nltk_data]   Unzipping corpora\\stopwords.zip.\n"
     ]
    },
    {
     "data": {
      "text/plain": [
       "True"
      ]
     },
     "execution_count": 133,
     "metadata": {},
     "output_type": "execute_result"
    }
   ],
   "source": [
    "nltk.download(\"stopwords\")"
   ]
  },
  {
   "cell_type": "code",
   "execution_count": 135,
   "id": "9b7e1b9e-b54e-4493-9e01-5ba8e04319f1",
   "metadata": {},
   "outputs": [],
   "source": [
    "english_s_w = stopwords.words(\"english\")"
   ]
  },
  {
   "cell_type": "code",
   "execution_count": 137,
   "id": "f0842a81-00e4-4440-868b-ad9ad74165e5",
   "metadata": {},
   "outputs": [
    {
     "data": {
      "text/plain": [
       "['a',\n",
       " 'about',\n",
       " 'above',\n",
       " 'after',\n",
       " 'again',\n",
       " 'against',\n",
       " 'ain',\n",
       " 'all',\n",
       " 'am',\n",
       " 'an',\n",
       " 'and',\n",
       " 'any',\n",
       " 'are',\n",
       " 'aren',\n",
       " \"aren't\",\n",
       " 'as',\n",
       " 'at',\n",
       " 'be',\n",
       " 'because',\n",
       " 'been']"
      ]
     },
     "execution_count": 137,
     "metadata": {},
     "output_type": "execute_result"
    }
   ],
   "source": [
    "english_s_w[:20]"
   ]
  },
  {
   "cell_type": "code",
   "execution_count": 154,
   "id": "e37df85f-2767-4d7f-9c77-735bfc1dc518",
   "metadata": {},
   "outputs": [],
   "source": [
    "tdf[\"removed_stopwords\"] = tdf[\"numbers_removed\"].apply(lambda x: \" \".join(word for word in x.split() if word not in english_s_w))"
   ]
  },
  {
   "cell_type": "code",
   "execution_count": 156,
   "id": "4f940bf5-80ff-4d18-9bd1-e72dfccad5a7",
   "metadata": {},
   "outputs": [
    {
     "data": {
      "text/html": [
       "<div>\n",
       "<style scoped>\n",
       "    .dataframe tbody tr th:only-of-type {\n",
       "        vertical-align: middle;\n",
       "    }\n",
       "\n",
       "    .dataframe tbody tr th {\n",
       "        vertical-align: top;\n",
       "    }\n",
       "\n",
       "    .dataframe thead th {\n",
       "        text-align: right;\n",
       "    }\n",
       "</style>\n",
       "<table border=\"1\" class=\"dataframe\">\n",
       "  <thead>\n",
       "    <tr style=\"text-align: right;\">\n",
       "      <th></th>\n",
       "      <th>sentences</th>\n",
       "      <th>lowercase_sentences</th>\n",
       "      <th>removing_punctuations</th>\n",
       "      <th>numbers_removed</th>\n",
       "      <th>removed_stopwords</th>\n",
       "    </tr>\n",
       "  </thead>\n",
       "  <tbody>\n",
       "    <tr>\n",
       "      <th>1</th>\n",
       "      <td>Chris Stark, head of the UK's 123 Climate Change Committee, told the BBC he rates government policy on insulation as \"very poor\".</td>\n",
       "      <td>chris stark, head of the uk's 123 climate change committee, told the bbc he rates government policy on insulation as \"very poor\".</td>\n",
       "      <td>chris stark, head of the uk's 123 climate change committee, told the bbc he rates government policy on insulation as \"very poor\".</td>\n",
       "      <td>chris stark, head of the uk's 123 climate change committee, told the bbc he rates government policy on insulation as \"very poor\".</td>\n",
       "      <td>chris stark, head uk's 123 climate change committee, told bbc rates government policy insulation \"very poor\".</td>\n",
       "    </tr>\n",
       "    <tr>\n",
       "      <th>2</th>\n",
       "      <td>Insulation, together with renewable 456 power, is the way out of the current energy crisis, he says.</td>\n",
       "      <td>insulation, together with renewable 456 power, is the way out of the current energy crisis, he says.</td>\n",
       "      <td>insulation, together with renewable 456 power, is the way out of the current energy crisis, he says.</td>\n",
       "      <td>insulation, together with renewable 456 power, is the way out of the current energy crisis, he says.</td>\n",
       "      <td>insulation, together renewable 456 power, way current energy crisis, says.</td>\n",
       "    </tr>\n",
       "    <tr>\n",
       "      <th>3</th>\n",
       "      <td>Two-thirds of homes, or 19 million, need better 0000 insulation, according to government data.</td>\n",
       "      <td>two-thirds of homes, or 19 million, need better 0000 insulation, according to government data.</td>\n",
       "      <td>two-thirds of homes, or 19 million, need better 0000 insulation, according to government data.</td>\n",
       "      <td>two-thirds of homes, or 19 million, need better 0000 insulation, according to government data.</td>\n",
       "      <td>two-thirds homes, 19 million, need better 0000 insulation, according government data.</td>\n",
       "    </tr>\n",
       "    <tr>\n",
       "      <th>4</th>\n",
       "      <td>That raises an obvious question: if it is such a good idea, why aren't we all doing it?</td>\n",
       "      <td>that raises an obvious question: if it is such a good idea, why aren't we all doing it?</td>\n",
       "      <td>that raises an obvious question: if it is such a good idea, why aren't we all doing it?</td>\n",
       "      <td>that raises an obvious question: if it is such a good idea, why aren't we all doing it?</td>\n",
       "      <td>raises obvious question: good idea, it?</td>\n",
       "    </tr>\n",
       "    <tr>\n",
       "      <th>5</th>\n",
       "      <td>The key issue is the cost.</td>\n",
       "      <td>the key issue is the cost.</td>\n",
       "      <td>the key issue is the cost.</td>\n",
       "      <td>the key issue is the cost.</td>\n",
       "      <td>key issue cost.</td>\n",
       "    </tr>\n",
       "    <tr>\n",
       "      <th>6</th>\n",
       "      <td>Britain is 789 frequently described as having some of the oldest and least energy efficient housing in Europe. Retrofitting - adding insulation to existing homes - can be very expensive and Mr Stark says the government isn't doing enough to help fund this costly work.</td>\n",
       "      <td>britain is 789 frequently described as having some of the oldest and least energy efficient housing in europe. retrofitting - adding insulation to existing homes - can be very expensive and mr stark says the government isn't doing enough to help fund this costly work.</td>\n",
       "      <td>britain is 789 frequently described as having some of the oldest and least energy efficient housing in europe. retrofitting - adding insulation to existing homes - can be very expensive and mr stark says the government isn't doing enough to help fund this costly work.</td>\n",
       "      <td>britain is 789 frequently described as having some of the oldest and least energy efficient housing in europe. retrofitting - adding insulation to existing homes - can be very expensive and mr stark says the government isn't doing enough to help fund this costly work.</td>\n",
       "      <td>britain 789 frequently described oldest least energy efficient housing europe. retrofitting - adding insulation existing homes - expensive mr stark says government enough help fund costly work.</td>\n",
       "    </tr>\n",
       "  </tbody>\n",
       "</table>\n",
       "</div>"
      ],
      "text/plain": [
       "                                                                                                                                                                                                                                                                      sentences                                                                                                                                                                                                                                                           lowercase_sentences                                                                                                                                                                                                                                                         removing_punctuations  \\\n",
       "1                                                                                                                                             Chris Stark, head of the UK's 123 Climate Change Committee, told the BBC he rates government policy on insulation as \"very poor\".                                                                                                                                             chris stark, head of the uk's 123 climate change committee, told the bbc he rates government policy on insulation as \"very poor\".                                                                                                                                             chris stark, head of the uk's 123 climate change committee, told the bbc he rates government policy on insulation as \"very poor\".   \n",
       "2                                                                                                                                                                          Insulation, together with renewable 456 power, is the way out of the current energy crisis, he says.                                                                                                                                                                          insulation, together with renewable 456 power, is the way out of the current energy crisis, he says.                                                                                                                                                                          insulation, together with renewable 456 power, is the way out of the current energy crisis, he says.   \n",
       "3                                                                                                                                                                                Two-thirds of homes, or 19 million, need better 0000 insulation, according to government data.                                                                                                                                                                                two-thirds of homes, or 19 million, need better 0000 insulation, according to government data.                                                                                                                                                                                two-thirds of homes, or 19 million, need better 0000 insulation, according to government data.   \n",
       "4                                                                                                                                                                                       That raises an obvious question: if it is such a good idea, why aren't we all doing it?                                                                                                                                                                                       that raises an obvious question: if it is such a good idea, why aren't we all doing it?                                                                                                                                                                                       that raises an obvious question: if it is such a good idea, why aren't we all doing it?   \n",
       "5                                                                                                                                                                                                                                                    The key issue is the cost.                                                                                                                                                                                                                                                    the key issue is the cost.                                                                                                                                                                                                                                                    the key issue is the cost.   \n",
       "6  Britain is 789 frequently described as having some of the oldest and least energy efficient housing in Europe. Retrofitting - adding insulation to existing homes - can be very expensive and Mr Stark says the government isn't doing enough to help fund this costly work.  britain is 789 frequently described as having some of the oldest and least energy efficient housing in europe. retrofitting - adding insulation to existing homes - can be very expensive and mr stark says the government isn't doing enough to help fund this costly work.  britain is 789 frequently described as having some of the oldest and least energy efficient housing in europe. retrofitting - adding insulation to existing homes - can be very expensive and mr stark says the government isn't doing enough to help fund this costly work.   \n",
       "\n",
       "                                                                                                                                                                                                                                                                numbers_removed                                                                                                                                                                                  removed_stopwords  \n",
       "1                                                                                                                                             chris stark, head of the uk's 123 climate change committee, told the bbc he rates government policy on insulation as \"very poor\".                                                                                      chris stark, head uk's 123 climate change committee, told bbc rates government policy insulation \"very poor\".  \n",
       "2                                                                                                                                                                          insulation, together with renewable 456 power, is the way out of the current energy crisis, he says.                                                                                                                         insulation, together renewable 456 power, way current energy crisis, says.  \n",
       "3                                                                                                                                                                                two-thirds of homes, or 19 million, need better 0000 insulation, according to government data.                                                                                                              two-thirds homes, 19 million, need better 0000 insulation, according government data.  \n",
       "4                                                                                                                                                                                       that raises an obvious question: if it is such a good idea, why aren't we all doing it?                                                                                                                                                            raises obvious question: good idea, it?  \n",
       "5                                                                                                                                                                                                                                                    the key issue is the cost.                                                                                                                                                                                    key issue cost.  \n",
       "6  britain is 789 frequently described as having some of the oldest and least energy efficient housing in europe. retrofitting - adding insulation to existing homes - can be very expensive and mr stark says the government isn't doing enough to help fund this costly work.  britain 789 frequently described oldest least energy efficient housing europe. retrofitting - adding insulation existing homes - expensive mr stark says government enough help fund costly work.  "
      ]
     },
     "execution_count": 156,
     "metadata": {},
     "output_type": "execute_result"
    }
   ],
   "source": [
    "tdf"
   ]
  },
  {
   "cell_type": "markdown",
   "id": "85e8f6b5-2b2e-4dff-9f3b-1bae97cb8390",
   "metadata": {},
   "source": [
    "# Finding Frequencies"
   ]
  },
  {
   "cell_type": "code",
   "execution_count": 165,
   "id": "cb7174e0-87e3-48fb-81fd-5e970f1efdf3",
   "metadata": {},
   "outputs": [
    {
     "data": {
      "text/plain": [
       "government      3\n",
       "insulation,     2\n",
       "-               2\n",
       "energy          2\n",
       "insulation      2\n",
       "chris           1\n",
       "frequently      1\n",
       "oldest          1\n",
       "described       1\n",
       "789             1\n",
       "efficient       1\n",
       "britain         1\n",
       "cost.           1\n",
       "issue           1\n",
       "key             1\n",
       "it?             1\n",
       "idea,           1\n",
       "good            1\n",
       "least           1\n",
       "retrofitting    1\n",
       "housing         1\n",
       "europe.         1\n",
       "obvious         1\n",
       "adding          1\n",
       "existing        1\n",
       "homes           1\n",
       "expensive       1\n",
       "mr              1\n",
       "stark           1\n",
       "says            1\n",
       "enough          1\n",
       "help            1\n",
       "fund            1\n",
       "costly          1\n",
       "question:       1\n",
       "according       1\n",
       "raises          1\n",
       "renewable       1\n",
       "head            1\n",
       "uk's            1\n",
       "123             1\n",
       "climate         1\n",
       "change          1\n",
       "committee,      1\n",
       "told            1\n",
       "bbc             1\n",
       "rates           1\n",
       "policy          1\n",
       "\"very           1\n",
       "poor\".          1\n",
       "together        1\n",
       "456             1\n",
       "data.           1\n",
       "power,          1\n",
       "way             1\n",
       "current         1\n",
       "crisis,         1\n",
       "says.           1\n",
       "two-thirds      1\n",
       "homes,          1\n",
       "19              1\n",
       "million,        1\n",
       "need            1\n",
       "better          1\n",
       "0000            1\n",
       "stark,          1\n",
       "work.           1\n",
       "Name: count, dtype: int64"
      ]
     },
     "execution_count": 165,
     "metadata": {},
     "output_type": "execute_result"
    }
   ],
   "source": [
    "pd.Series(\" \".join(tdf[\"removed_stopwords\"]).split()).value_counts()"
   ]
  },
  {
   "cell_type": "markdown",
   "id": "2530e546-8542-4f83-bb5d-a17ee169d046",
   "metadata": {},
   "source": [
    "Tokenization"
   ]
  },
  {
   "cell_type": "code",
   "execution_count": 172,
   "id": "b6b2fac1-d0d1-4ebb-aab9-7be5ffdcc5e7",
   "metadata": {},
   "outputs": [],
   "source": [
    "tdf[\"tokenization\"] = tdf[\"removed_stopwords\"].apply(lambda x: TextBlob(x).words)"
   ]
  },
  {
   "cell_type": "code",
   "execution_count": 174,
   "id": "07056227-8907-4f0c-8c43-c529f5a039a2",
   "metadata": {},
   "outputs": [
    {
     "data": {
      "text/html": [
       "<div>\n",
       "<style scoped>\n",
       "    .dataframe tbody tr th:only-of-type {\n",
       "        vertical-align: middle;\n",
       "    }\n",
       "\n",
       "    .dataframe tbody tr th {\n",
       "        vertical-align: top;\n",
       "    }\n",
       "\n",
       "    .dataframe thead th {\n",
       "        text-align: right;\n",
       "    }\n",
       "</style>\n",
       "<table border=\"1\" class=\"dataframe\">\n",
       "  <thead>\n",
       "    <tr style=\"text-align: right;\">\n",
       "      <th></th>\n",
       "      <th>sentences</th>\n",
       "      <th>lowercase_sentences</th>\n",
       "      <th>removing_punctuations</th>\n",
       "      <th>numbers_removed</th>\n",
       "      <th>removed_stopwords</th>\n",
       "      <th>tokenization</th>\n",
       "    </tr>\n",
       "  </thead>\n",
       "  <tbody>\n",
       "    <tr>\n",
       "      <th>1</th>\n",
       "      <td>Chris Stark, head of the UK's 123 Climate Change Committee, told the BBC he rates government policy on insulation as \"very poor\".</td>\n",
       "      <td>chris stark, head of the uk's 123 climate change committee, told the bbc he rates government policy on insulation as \"very poor\".</td>\n",
       "      <td>chris stark, head of the uk's 123 climate change committee, told the bbc he rates government policy on insulation as \"very poor\".</td>\n",
       "      <td>chris stark, head of the uk's 123 climate change committee, told the bbc he rates government policy on insulation as \"very poor\".</td>\n",
       "      <td>chris stark, head uk's 123 climate change committee, told bbc rates government policy insulation \"very poor\".</td>\n",
       "      <td>[chris, stark, head, uk, 's, 123, climate, change, committee, told, bbc, rates, government, policy, insulation, very, poor]</td>\n",
       "    </tr>\n",
       "    <tr>\n",
       "      <th>2</th>\n",
       "      <td>Insulation, together with renewable 456 power, is the way out of the current energy crisis, he says.</td>\n",
       "      <td>insulation, together with renewable 456 power, is the way out of the current energy crisis, he says.</td>\n",
       "      <td>insulation, together with renewable 456 power, is the way out of the current energy crisis, he says.</td>\n",
       "      <td>insulation, together with renewable 456 power, is the way out of the current energy crisis, he says.</td>\n",
       "      <td>insulation, together renewable 456 power, way current energy crisis, says.</td>\n",
       "      <td>[insulation, together, renewable, 456, power, way, current, energy, crisis, says]</td>\n",
       "    </tr>\n",
       "    <tr>\n",
       "      <th>3</th>\n",
       "      <td>Two-thirds of homes, or 19 million, need better 0000 insulation, according to government data.</td>\n",
       "      <td>two-thirds of homes, or 19 million, need better 0000 insulation, according to government data.</td>\n",
       "      <td>two-thirds of homes, or 19 million, need better 0000 insulation, according to government data.</td>\n",
       "      <td>two-thirds of homes, or 19 million, need better 0000 insulation, according to government data.</td>\n",
       "      <td>two-thirds homes, 19 million, need better 0000 insulation, according government data.</td>\n",
       "      <td>[two-thirds, homes, 19, million, need, better, 0000, insulation, according, government, data]</td>\n",
       "    </tr>\n",
       "    <tr>\n",
       "      <th>4</th>\n",
       "      <td>That raises an obvious question: if it is such a good idea, why aren't we all doing it?</td>\n",
       "      <td>that raises an obvious question: if it is such a good idea, why aren't we all doing it?</td>\n",
       "      <td>that raises an obvious question: if it is such a good idea, why aren't we all doing it?</td>\n",
       "      <td>that raises an obvious question: if it is such a good idea, why aren't we all doing it?</td>\n",
       "      <td>raises obvious question: good idea, it?</td>\n",
       "      <td>[raises, obvious, question, good, idea, it]</td>\n",
       "    </tr>\n",
       "    <tr>\n",
       "      <th>5</th>\n",
       "      <td>The key issue is the cost.</td>\n",
       "      <td>the key issue is the cost.</td>\n",
       "      <td>the key issue is the cost.</td>\n",
       "      <td>the key issue is the cost.</td>\n",
       "      <td>key issue cost.</td>\n",
       "      <td>[key, issue, cost]</td>\n",
       "    </tr>\n",
       "    <tr>\n",
       "      <th>6</th>\n",
       "      <td>Britain is 789 frequently described as having some of the oldest and least energy efficient housing in Europe. Retrofitting - adding insulation to existing homes - can be very expensive and Mr Stark says the government isn't doing enough to help fund this costly work.</td>\n",
       "      <td>britain is 789 frequently described as having some of the oldest and least energy efficient housing in europe. retrofitting - adding insulation to existing homes - can be very expensive and mr stark says the government isn't doing enough to help fund this costly work.</td>\n",
       "      <td>britain is 789 frequently described as having some of the oldest and least energy efficient housing in europe. retrofitting - adding insulation to existing homes - can be very expensive and mr stark says the government isn't doing enough to help fund this costly work.</td>\n",
       "      <td>britain is 789 frequently described as having some of the oldest and least energy efficient housing in europe. retrofitting - adding insulation to existing homes - can be very expensive and mr stark says the government isn't doing enough to help fund this costly work.</td>\n",
       "      <td>britain 789 frequently described oldest least energy efficient housing europe. retrofitting - adding insulation existing homes - expensive mr stark says government enough help fund costly work.</td>\n",
       "      <td>[britain, 789, frequently, described, oldest, least, energy, efficient, housing, europe, retrofitting, adding, insulation, existing, homes, expensive, mr, stark, says, government, enough, help, fund, costly, work]</td>\n",
       "    </tr>\n",
       "  </tbody>\n",
       "</table>\n",
       "</div>"
      ],
      "text/plain": [
       "                                                                                                                                                                                                                                                                      sentences                                                                                                                                                                                                                                                           lowercase_sentences                                                                                                                                                                                                                                                         removing_punctuations  \\\n",
       "1                                                                                                                                             Chris Stark, head of the UK's 123 Climate Change Committee, told the BBC he rates government policy on insulation as \"very poor\".                                                                                                                                             chris stark, head of the uk's 123 climate change committee, told the bbc he rates government policy on insulation as \"very poor\".                                                                                                                                             chris stark, head of the uk's 123 climate change committee, told the bbc he rates government policy on insulation as \"very poor\".   \n",
       "2                                                                                                                                                                          Insulation, together with renewable 456 power, is the way out of the current energy crisis, he says.                                                                                                                                                                          insulation, together with renewable 456 power, is the way out of the current energy crisis, he says.                                                                                                                                                                          insulation, together with renewable 456 power, is the way out of the current energy crisis, he says.   \n",
       "3                                                                                                                                                                                Two-thirds of homes, or 19 million, need better 0000 insulation, according to government data.                                                                                                                                                                                two-thirds of homes, or 19 million, need better 0000 insulation, according to government data.                                                                                                                                                                                two-thirds of homes, or 19 million, need better 0000 insulation, according to government data.   \n",
       "4                                                                                                                                                                                       That raises an obvious question: if it is such a good idea, why aren't we all doing it?                                                                                                                                                                                       that raises an obvious question: if it is such a good idea, why aren't we all doing it?                                                                                                                                                                                       that raises an obvious question: if it is such a good idea, why aren't we all doing it?   \n",
       "5                                                                                                                                                                                                                                                    The key issue is the cost.                                                                                                                                                                                                                                                    the key issue is the cost.                                                                                                                                                                                                                                                    the key issue is the cost.   \n",
       "6  Britain is 789 frequently described as having some of the oldest and least energy efficient housing in Europe. Retrofitting - adding insulation to existing homes - can be very expensive and Mr Stark says the government isn't doing enough to help fund this costly work.  britain is 789 frequently described as having some of the oldest and least energy efficient housing in europe. retrofitting - adding insulation to existing homes - can be very expensive and mr stark says the government isn't doing enough to help fund this costly work.  britain is 789 frequently described as having some of the oldest and least energy efficient housing in europe. retrofitting - adding insulation to existing homes - can be very expensive and mr stark says the government isn't doing enough to help fund this costly work.   \n",
       "\n",
       "                                                                                                                                                                                                                                                                numbers_removed                                                                                                                                                                                  removed_stopwords                                                                                                                                                                                                           tokenization  \n",
       "1                                                                                                                                             chris stark, head of the uk's 123 climate change committee, told the bbc he rates government policy on insulation as \"very poor\".                                                                                      chris stark, head uk's 123 climate change committee, told bbc rates government policy insulation \"very poor\".                                                                                            [chris, stark, head, uk, 's, 123, climate, change, committee, told, bbc, rates, government, policy, insulation, very, poor]  \n",
       "2                                                                                                                                                                          insulation, together with renewable 456 power, is the way out of the current energy crisis, he says.                                                                                                                         insulation, together renewable 456 power, way current energy crisis, says.                                                                                                                                      [insulation, together, renewable, 456, power, way, current, energy, crisis, says]  \n",
       "3                                                                                                                                                                                two-thirds of homes, or 19 million, need better 0000 insulation, according to government data.                                                                                                              two-thirds homes, 19 million, need better 0000 insulation, according government data.                                                                                                                          [two-thirds, homes, 19, million, need, better, 0000, insulation, according, government, data]  \n",
       "4                                                                                                                                                                                       that raises an obvious question: if it is such a good idea, why aren't we all doing it?                                                                                                                                                            raises obvious question: good idea, it?                                                                                                                                                                            [raises, obvious, question, good, idea, it]  \n",
       "5                                                                                                                                                                                                                                                    the key issue is the cost.                                                                                                                                                                                    key issue cost.                                                                                                                                                                                                     [key, issue, cost]  \n",
       "6  britain is 789 frequently described as having some of the oldest and least energy efficient housing in europe. retrofitting - adding insulation to existing homes - can be very expensive and mr stark says the government isn't doing enough to help fund this costly work.  britain 789 frequently described oldest least energy efficient housing europe. retrofitting - adding insulation existing homes - expensive mr stark says government enough help fund costly work.  [britain, 789, frequently, described, oldest, least, energy, efficient, housing, europe, retrofitting, adding, insulation, existing, homes, expensive, mr, stark, says, government, enough, help, fund, costly, work]  "
      ]
     },
     "execution_count": 174,
     "metadata": {},
     "output_type": "execute_result"
    }
   ],
   "source": [
    "tdf"
   ]
  },
  {
   "cell_type": "markdown",
   "id": "730502e4-18bd-4d72-88ad-1ae93b67b41c",
   "metadata": {},
   "source": [
    "# Stemming - It is a process of convert word to it's root word\n",
    "# Here we are using PorterStemmer() from nltk package"
   ]
  },
  {
   "cell_type": "code",
   "execution_count": 187,
   "id": "c4662fb6-4d98-47aa-9b20-af8070d39e8b",
   "metadata": {},
   "outputs": [],
   "source": [
    "st = PorterStemmer()"
   ]
  },
  {
   "cell_type": "code",
   "execution_count": 189,
   "id": "e19a2a8e-faac-4c69-b2e2-db4427bcf658",
   "metadata": {},
   "outputs": [],
   "source": [
    "tdf[\"stemming\"] = tdf[\"removed_stopwords\"].apply(lambda x: \" \".join([st.stem(word) for word in x.split()]))"
   ]
  },
  {
   "cell_type": "code",
   "execution_count": 191,
   "id": "485d8df9-0017-452c-b8bb-a722eaf98729",
   "metadata": {},
   "outputs": [
    {
     "data": {
      "text/html": [
       "<div>\n",
       "<style scoped>\n",
       "    .dataframe tbody tr th:only-of-type {\n",
       "        vertical-align: middle;\n",
       "    }\n",
       "\n",
       "    .dataframe tbody tr th {\n",
       "        vertical-align: top;\n",
       "    }\n",
       "\n",
       "    .dataframe thead th {\n",
       "        text-align: right;\n",
       "    }\n",
       "</style>\n",
       "<table border=\"1\" class=\"dataframe\">\n",
       "  <thead>\n",
       "    <tr style=\"text-align: right;\">\n",
       "      <th></th>\n",
       "      <th>sentences</th>\n",
       "      <th>lowercase_sentences</th>\n",
       "      <th>removing_punctuations</th>\n",
       "      <th>numbers_removed</th>\n",
       "      <th>removed_stopwords</th>\n",
       "      <th>tokenization</th>\n",
       "      <th>stemming</th>\n",
       "    </tr>\n",
       "  </thead>\n",
       "  <tbody>\n",
       "    <tr>\n",
       "      <th>1</th>\n",
       "      <td>Chris Stark, head of the UK's 123 Climate Change Committee, told the BBC he rates government policy on insulation as \"very poor\".</td>\n",
       "      <td>chris stark, head of the uk's 123 climate change committee, told the bbc he rates government policy on insulation as \"very poor\".</td>\n",
       "      <td>chris stark, head of the uk's 123 climate change committee, told the bbc he rates government policy on insulation as \"very poor\".</td>\n",
       "      <td>chris stark, head of the uk's 123 climate change committee, told the bbc he rates government policy on insulation as \"very poor\".</td>\n",
       "      <td>chris stark, head uk's 123 climate change committee, told bbc rates government policy insulation \"very poor\".</td>\n",
       "      <td>[chris, stark, head, uk, 's, 123, climate, change, committee, told, bbc, rates, government, policy, insulation, very, poor]</td>\n",
       "      <td>chri stark, head uk' 123 climat chang committee, told bbc rate govern polici insul \"veri poor\".</td>\n",
       "    </tr>\n",
       "    <tr>\n",
       "      <th>2</th>\n",
       "      <td>Insulation, together with renewable 456 power, is the way out of the current energy crisis, he says.</td>\n",
       "      <td>insulation, together with renewable 456 power, is the way out of the current energy crisis, he says.</td>\n",
       "      <td>insulation, together with renewable 456 power, is the way out of the current energy crisis, he says.</td>\n",
       "      <td>insulation, together with renewable 456 power, is the way out of the current energy crisis, he says.</td>\n",
       "      <td>insulation, together renewable 456 power, way current energy crisis, says.</td>\n",
       "      <td>[insulation, together, renewable, 456, power, way, current, energy, crisis, says]</td>\n",
       "      <td>insulation, togeth renew 456 power, way current energi crisis, says.</td>\n",
       "    </tr>\n",
       "    <tr>\n",
       "      <th>3</th>\n",
       "      <td>Two-thirds of homes, or 19 million, need better 0000 insulation, according to government data.</td>\n",
       "      <td>two-thirds of homes, or 19 million, need better 0000 insulation, according to government data.</td>\n",
       "      <td>two-thirds of homes, or 19 million, need better 0000 insulation, according to government data.</td>\n",
       "      <td>two-thirds of homes, or 19 million, need better 0000 insulation, according to government data.</td>\n",
       "      <td>two-thirds homes, 19 million, need better 0000 insulation, according government data.</td>\n",
       "      <td>[two-thirds, homes, 19, million, need, better, 0000, insulation, according, government, data]</td>\n",
       "      <td>two-third homes, 19 million, need better 0000 insulation, accord govern data.</td>\n",
       "    </tr>\n",
       "    <tr>\n",
       "      <th>4</th>\n",
       "      <td>That raises an obvious question: if it is such a good idea, why aren't we all doing it?</td>\n",
       "      <td>that raises an obvious question: if it is such a good idea, why aren't we all doing it?</td>\n",
       "      <td>that raises an obvious question: if it is such a good idea, why aren't we all doing it?</td>\n",
       "      <td>that raises an obvious question: if it is such a good idea, why aren't we all doing it?</td>\n",
       "      <td>raises obvious question: good idea, it?</td>\n",
       "      <td>[raises, obvious, question, good, idea, it]</td>\n",
       "      <td>rais obviou question: good idea, it?</td>\n",
       "    </tr>\n",
       "    <tr>\n",
       "      <th>5</th>\n",
       "      <td>The key issue is the cost.</td>\n",
       "      <td>the key issue is the cost.</td>\n",
       "      <td>the key issue is the cost.</td>\n",
       "      <td>the key issue is the cost.</td>\n",
       "      <td>key issue cost.</td>\n",
       "      <td>[key, issue, cost]</td>\n",
       "      <td>key issu cost.</td>\n",
       "    </tr>\n",
       "    <tr>\n",
       "      <th>6</th>\n",
       "      <td>Britain is 789 frequently described as having some of the oldest and least energy efficient housing in Europe. Retrofitting - adding insulation to existing homes - can be very expensive and Mr Stark says the government isn't doing enough to help fund this costly work.</td>\n",
       "      <td>britain is 789 frequently described as having some of the oldest and least energy efficient housing in europe. retrofitting - adding insulation to existing homes - can be very expensive and mr stark says the government isn't doing enough to help fund this costly work.</td>\n",
       "      <td>britain is 789 frequently described as having some of the oldest and least energy efficient housing in europe. retrofitting - adding insulation to existing homes - can be very expensive and mr stark says the government isn't doing enough to help fund this costly work.</td>\n",
       "      <td>britain is 789 frequently described as having some of the oldest and least energy efficient housing in europe. retrofitting - adding insulation to existing homes - can be very expensive and mr stark says the government isn't doing enough to help fund this costly work.</td>\n",
       "      <td>britain 789 frequently described oldest least energy efficient housing europe. retrofitting - adding insulation existing homes - expensive mr stark says government enough help fund costly work.</td>\n",
       "      <td>[britain, 789, frequently, described, oldest, least, energy, efficient, housing, europe, retrofitting, adding, insulation, existing, homes, expensive, mr, stark, says, government, enough, help, fund, costly, work]</td>\n",
       "      <td>britain 789 frequent describ oldest least energi effici hous europe. retrofit - ad insul exist home - expens mr stark say govern enough help fund costli work.</td>\n",
       "    </tr>\n",
       "  </tbody>\n",
       "</table>\n",
       "</div>"
      ],
      "text/plain": [
       "                                                                                                                                                                                                                                                                      sentences                                                                                                                                                                                                                                                           lowercase_sentences                                                                                                                                                                                                                                                         removing_punctuations  \\\n",
       "1                                                                                                                                             Chris Stark, head of the UK's 123 Climate Change Committee, told the BBC he rates government policy on insulation as \"very poor\".                                                                                                                                             chris stark, head of the uk's 123 climate change committee, told the bbc he rates government policy on insulation as \"very poor\".                                                                                                                                             chris stark, head of the uk's 123 climate change committee, told the bbc he rates government policy on insulation as \"very poor\".   \n",
       "2                                                                                                                                                                          Insulation, together with renewable 456 power, is the way out of the current energy crisis, he says.                                                                                                                                                                          insulation, together with renewable 456 power, is the way out of the current energy crisis, he says.                                                                                                                                                                          insulation, together with renewable 456 power, is the way out of the current energy crisis, he says.   \n",
       "3                                                                                                                                                                                Two-thirds of homes, or 19 million, need better 0000 insulation, according to government data.                                                                                                                                                                                two-thirds of homes, or 19 million, need better 0000 insulation, according to government data.                                                                                                                                                                                two-thirds of homes, or 19 million, need better 0000 insulation, according to government data.   \n",
       "4                                                                                                                                                                                       That raises an obvious question: if it is such a good idea, why aren't we all doing it?                                                                                                                                                                                       that raises an obvious question: if it is such a good idea, why aren't we all doing it?                                                                                                                                                                                       that raises an obvious question: if it is such a good idea, why aren't we all doing it?   \n",
       "5                                                                                                                                                                                                                                                    The key issue is the cost.                                                                                                                                                                                                                                                    the key issue is the cost.                                                                                                                                                                                                                                                    the key issue is the cost.   \n",
       "6  Britain is 789 frequently described as having some of the oldest and least energy efficient housing in Europe. Retrofitting - adding insulation to existing homes - can be very expensive and Mr Stark says the government isn't doing enough to help fund this costly work.  britain is 789 frequently described as having some of the oldest and least energy efficient housing in europe. retrofitting - adding insulation to existing homes - can be very expensive and mr stark says the government isn't doing enough to help fund this costly work.  britain is 789 frequently described as having some of the oldest and least energy efficient housing in europe. retrofitting - adding insulation to existing homes - can be very expensive and mr stark says the government isn't doing enough to help fund this costly work.   \n",
       "\n",
       "                                                                                                                                                                                                                                                                numbers_removed                                                                                                                                                                                  removed_stopwords                                                                                                                                                                                                           tokenization                                                                                                                                                        stemming  \n",
       "1                                                                                                                                             chris stark, head of the uk's 123 climate change committee, told the bbc he rates government policy on insulation as \"very poor\".                                                                                      chris stark, head uk's 123 climate change committee, told bbc rates government policy insulation \"very poor\".                                                                                            [chris, stark, head, uk, 's, 123, climate, change, committee, told, bbc, rates, government, policy, insulation, very, poor]                                                                 chri stark, head uk' 123 climat chang committee, told bbc rate govern polici insul \"veri poor\".  \n",
       "2                                                                                                                                                                          insulation, together with renewable 456 power, is the way out of the current energy crisis, he says.                                                                                                                         insulation, together renewable 456 power, way current energy crisis, says.                                                                                                                                      [insulation, together, renewable, 456, power, way, current, energy, crisis, says]                                                                                            insulation, togeth renew 456 power, way current energi crisis, says.  \n",
       "3                                                                                                                                                                                two-thirds of homes, or 19 million, need better 0000 insulation, according to government data.                                                                                                              two-thirds homes, 19 million, need better 0000 insulation, according government data.                                                                                                                          [two-thirds, homes, 19, million, need, better, 0000, insulation, according, government, data]                                                                                   two-third homes, 19 million, need better 0000 insulation, accord govern data.  \n",
       "4                                                                                                                                                                                       that raises an obvious question: if it is such a good idea, why aren't we all doing it?                                                                                                                                                            raises obvious question: good idea, it?                                                                                                                                                                            [raises, obvious, question, good, idea, it]                                                                                                                            rais obviou question: good idea, it?  \n",
       "5                                                                                                                                                                                                                                                    the key issue is the cost.                                                                                                                                                                                    key issue cost.                                                                                                                                                                                                     [key, issue, cost]                                                                                                                                                  key issu cost.  \n",
       "6  britain is 789 frequently described as having some of the oldest and least energy efficient housing in europe. retrofitting - adding insulation to existing homes - can be very expensive and mr stark says the government isn't doing enough to help fund this costly work.  britain 789 frequently described oldest least energy efficient housing europe. retrofitting - adding insulation existing homes - expensive mr stark says government enough help fund costly work.  [britain, 789, frequently, described, oldest, least, energy, efficient, housing, europe, retrofitting, adding, insulation, existing, homes, expensive, mr, stark, says, government, enough, help, fund, costly, work]  britain 789 frequent describ oldest least energi effici hous europe. retrofit - ad insul exist home - expens mr stark say govern enough help fund costli work.  "
      ]
     },
     "execution_count": 191,
     "metadata": {},
     "output_type": "execute_result"
    }
   ],
   "source": [
    "tdf"
   ]
  },
  {
   "cell_type": "markdown",
   "id": "4d2f642d-2e5f-497f-8cf6-351873d1e7f4",
   "metadata": {},
   "source": [
    "# Lemmatization"
   ]
  },
  {
   "cell_type": "code",
   "execution_count": 194,
   "id": "5c00d476-1d4c-4fab-a1a0-eb676ebcc2a5",
   "metadata": {},
   "outputs": [],
   "source": [
    "tdf[\"lemmatized\"] = tdf[\"removed_stopwords\"].apply(lambda text: \" \".join([Word(word).lemmatize() \n",
    "                                                                          for word in text.split()]))"
   ]
  },
  {
   "cell_type": "code",
   "execution_count": 196,
   "id": "22f6a46b-72ed-4908-b62e-56ff258ee926",
   "metadata": {},
   "outputs": [
    {
     "data": {
      "text/html": [
       "<div>\n",
       "<style scoped>\n",
       "    .dataframe tbody tr th:only-of-type {\n",
       "        vertical-align: middle;\n",
       "    }\n",
       "\n",
       "    .dataframe tbody tr th {\n",
       "        vertical-align: top;\n",
       "    }\n",
       "\n",
       "    .dataframe thead th {\n",
       "        text-align: right;\n",
       "    }\n",
       "</style>\n",
       "<table border=\"1\" class=\"dataframe\">\n",
       "  <thead>\n",
       "    <tr style=\"text-align: right;\">\n",
       "      <th></th>\n",
       "      <th>sentences</th>\n",
       "      <th>lowercase_sentences</th>\n",
       "      <th>removing_punctuations</th>\n",
       "      <th>numbers_removed</th>\n",
       "      <th>removed_stopwords</th>\n",
       "      <th>tokenization</th>\n",
       "      <th>stemming</th>\n",
       "      <th>lemmatized</th>\n",
       "    </tr>\n",
       "  </thead>\n",
       "  <tbody>\n",
       "    <tr>\n",
       "      <th>1</th>\n",
       "      <td>Chris Stark, head of the UK's 123 Climate Change Committee, told the BBC he rates government policy on insulation as \"very poor\".</td>\n",
       "      <td>chris stark, head of the uk's 123 climate change committee, told the bbc he rates government policy on insulation as \"very poor\".</td>\n",
       "      <td>chris stark, head of the uk's 123 climate change committee, told the bbc he rates government policy on insulation as \"very poor\".</td>\n",
       "      <td>chris stark, head of the uk's 123 climate change committee, told the bbc he rates government policy on insulation as \"very poor\".</td>\n",
       "      <td>chris stark, head uk's 123 climate change committee, told bbc rates government policy insulation \"very poor\".</td>\n",
       "      <td>[chris, stark, head, uk, 's, 123, climate, change, committee, told, bbc, rates, government, policy, insulation, very, poor]</td>\n",
       "      <td>chri stark, head uk' 123 climat chang committee, told bbc rate govern polici insul \"veri poor\".</td>\n",
       "      <td>chris stark, head uk's 123 climate change committee, told bbc rate government policy insulation \"very poor\".</td>\n",
       "    </tr>\n",
       "    <tr>\n",
       "      <th>2</th>\n",
       "      <td>Insulation, together with renewable 456 power, is the way out of the current energy crisis, he says.</td>\n",
       "      <td>insulation, together with renewable 456 power, is the way out of the current energy crisis, he says.</td>\n",
       "      <td>insulation, together with renewable 456 power, is the way out of the current energy crisis, he says.</td>\n",
       "      <td>insulation, together with renewable 456 power, is the way out of the current energy crisis, he says.</td>\n",
       "      <td>insulation, together renewable 456 power, way current energy crisis, says.</td>\n",
       "      <td>[insulation, together, renewable, 456, power, way, current, energy, crisis, says]</td>\n",
       "      <td>insulation, togeth renew 456 power, way current energi crisis, says.</td>\n",
       "      <td>insulation, together renewable 456 power, way current energy crisis, says.</td>\n",
       "    </tr>\n",
       "    <tr>\n",
       "      <th>3</th>\n",
       "      <td>Two-thirds of homes, or 19 million, need better 0000 insulation, according to government data.</td>\n",
       "      <td>two-thirds of homes, or 19 million, need better 0000 insulation, according to government data.</td>\n",
       "      <td>two-thirds of homes, or 19 million, need better 0000 insulation, according to government data.</td>\n",
       "      <td>two-thirds of homes, or 19 million, need better 0000 insulation, according to government data.</td>\n",
       "      <td>two-thirds homes, 19 million, need better 0000 insulation, according government data.</td>\n",
       "      <td>[two-thirds, homes, 19, million, need, better, 0000, insulation, according, government, data]</td>\n",
       "      <td>two-third homes, 19 million, need better 0000 insulation, accord govern data.</td>\n",
       "      <td>two-thirds homes, 19 million, need better 0000 insulation, according government data.</td>\n",
       "    </tr>\n",
       "    <tr>\n",
       "      <th>4</th>\n",
       "      <td>That raises an obvious question: if it is such a good idea, why aren't we all doing it?</td>\n",
       "      <td>that raises an obvious question: if it is such a good idea, why aren't we all doing it?</td>\n",
       "      <td>that raises an obvious question: if it is such a good idea, why aren't we all doing it?</td>\n",
       "      <td>that raises an obvious question: if it is such a good idea, why aren't we all doing it?</td>\n",
       "      <td>raises obvious question: good idea, it?</td>\n",
       "      <td>[raises, obvious, question, good, idea, it]</td>\n",
       "      <td>rais obviou question: good idea, it?</td>\n",
       "      <td>raise obvious question: good idea, it?</td>\n",
       "    </tr>\n",
       "    <tr>\n",
       "      <th>5</th>\n",
       "      <td>The key issue is the cost.</td>\n",
       "      <td>the key issue is the cost.</td>\n",
       "      <td>the key issue is the cost.</td>\n",
       "      <td>the key issue is the cost.</td>\n",
       "      <td>key issue cost.</td>\n",
       "      <td>[key, issue, cost]</td>\n",
       "      <td>key issu cost.</td>\n",
       "      <td>key issue cost.</td>\n",
       "    </tr>\n",
       "    <tr>\n",
       "      <th>6</th>\n",
       "      <td>Britain is 789 frequently described as having some of the oldest and least energy efficient housing in Europe. Retrofitting - adding insulation to existing homes - can be very expensive and Mr Stark says the government isn't doing enough to help fund this costly work.</td>\n",
       "      <td>britain is 789 frequently described as having some of the oldest and least energy efficient housing in europe. retrofitting - adding insulation to existing homes - can be very expensive and mr stark says the government isn't doing enough to help fund this costly work.</td>\n",
       "      <td>britain is 789 frequently described as having some of the oldest and least energy efficient housing in europe. retrofitting - adding insulation to existing homes - can be very expensive and mr stark says the government isn't doing enough to help fund this costly work.</td>\n",
       "      <td>britain is 789 frequently described as having some of the oldest and least energy efficient housing in europe. retrofitting - adding insulation to existing homes - can be very expensive and mr stark says the government isn't doing enough to help fund this costly work.</td>\n",
       "      <td>britain 789 frequently described oldest least energy efficient housing europe. retrofitting - adding insulation existing homes - expensive mr stark says government enough help fund costly work.</td>\n",
       "      <td>[britain, 789, frequently, described, oldest, least, energy, efficient, housing, europe, retrofitting, adding, insulation, existing, homes, expensive, mr, stark, says, government, enough, help, fund, costly, work]</td>\n",
       "      <td>britain 789 frequent describ oldest least energi effici hous europe. retrofit - ad insul exist home - expens mr stark say govern enough help fund costli work.</td>\n",
       "      <td>britain 789 frequently described oldest least energy efficient housing europe. retrofitting - adding insulation existing home - expensive mr stark say government enough help fund costly work.</td>\n",
       "    </tr>\n",
       "  </tbody>\n",
       "</table>\n",
       "</div>"
      ],
      "text/plain": [
       "                                                                                                                                                                                                                                                                      sentences                                                                                                                                                                                                                                                           lowercase_sentences                                                                                                                                                                                                                                                         removing_punctuations  \\\n",
       "1                                                                                                                                             Chris Stark, head of the UK's 123 Climate Change Committee, told the BBC he rates government policy on insulation as \"very poor\".                                                                                                                                             chris stark, head of the uk's 123 climate change committee, told the bbc he rates government policy on insulation as \"very poor\".                                                                                                                                             chris stark, head of the uk's 123 climate change committee, told the bbc he rates government policy on insulation as \"very poor\".   \n",
       "2                                                                                                                                                                          Insulation, together with renewable 456 power, is the way out of the current energy crisis, he says.                                                                                                                                                                          insulation, together with renewable 456 power, is the way out of the current energy crisis, he says.                                                                                                                                                                          insulation, together with renewable 456 power, is the way out of the current energy crisis, he says.   \n",
       "3                                                                                                                                                                                Two-thirds of homes, or 19 million, need better 0000 insulation, according to government data.                                                                                                                                                                                two-thirds of homes, or 19 million, need better 0000 insulation, according to government data.                                                                                                                                                                                two-thirds of homes, or 19 million, need better 0000 insulation, according to government data.   \n",
       "4                                                                                                                                                                                       That raises an obvious question: if it is such a good idea, why aren't we all doing it?                                                                                                                                                                                       that raises an obvious question: if it is such a good idea, why aren't we all doing it?                                                                                                                                                                                       that raises an obvious question: if it is such a good idea, why aren't we all doing it?   \n",
       "5                                                                                                                                                                                                                                                    The key issue is the cost.                                                                                                                                                                                                                                                    the key issue is the cost.                                                                                                                                                                                                                                                    the key issue is the cost.   \n",
       "6  Britain is 789 frequently described as having some of the oldest and least energy efficient housing in Europe. Retrofitting - adding insulation to existing homes - can be very expensive and Mr Stark says the government isn't doing enough to help fund this costly work.  britain is 789 frequently described as having some of the oldest and least energy efficient housing in europe. retrofitting - adding insulation to existing homes - can be very expensive and mr stark says the government isn't doing enough to help fund this costly work.  britain is 789 frequently described as having some of the oldest and least energy efficient housing in europe. retrofitting - adding insulation to existing homes - can be very expensive and mr stark says the government isn't doing enough to help fund this costly work.   \n",
       "\n",
       "                                                                                                                                                                                                                                                                numbers_removed                                                                                                                                                                                  removed_stopwords                                                                                                                                                                                                           tokenization                                                                                                                                                        stemming  \\\n",
       "1                                                                                                                                             chris stark, head of the uk's 123 climate change committee, told the bbc he rates government policy on insulation as \"very poor\".                                                                                      chris stark, head uk's 123 climate change committee, told bbc rates government policy insulation \"very poor\".                                                                                            [chris, stark, head, uk, 's, 123, climate, change, committee, told, bbc, rates, government, policy, insulation, very, poor]                                                                 chri stark, head uk' 123 climat chang committee, told bbc rate govern polici insul \"veri poor\".   \n",
       "2                                                                                                                                                                          insulation, together with renewable 456 power, is the way out of the current energy crisis, he says.                                                                                                                         insulation, together renewable 456 power, way current energy crisis, says.                                                                                                                                      [insulation, together, renewable, 456, power, way, current, energy, crisis, says]                                                                                            insulation, togeth renew 456 power, way current energi crisis, says.   \n",
       "3                                                                                                                                                                                two-thirds of homes, or 19 million, need better 0000 insulation, according to government data.                                                                                                              two-thirds homes, 19 million, need better 0000 insulation, according government data.                                                                                                                          [two-thirds, homes, 19, million, need, better, 0000, insulation, according, government, data]                                                                                   two-third homes, 19 million, need better 0000 insulation, accord govern data.   \n",
       "4                                                                                                                                                                                       that raises an obvious question: if it is such a good idea, why aren't we all doing it?                                                                                                                                                            raises obvious question: good idea, it?                                                                                                                                                                            [raises, obvious, question, good, idea, it]                                                                                                                            rais obviou question: good idea, it?   \n",
       "5                                                                                                                                                                                                                                                    the key issue is the cost.                                                                                                                                                                                    key issue cost.                                                                                                                                                                                                     [key, issue, cost]                                                                                                                                                  key issu cost.   \n",
       "6  britain is 789 frequently described as having some of the oldest and least energy efficient housing in europe. retrofitting - adding insulation to existing homes - can be very expensive and mr stark says the government isn't doing enough to help fund this costly work.  britain 789 frequently described oldest least energy efficient housing europe. retrofitting - adding insulation existing homes - expensive mr stark says government enough help fund costly work.  [britain, 789, frequently, described, oldest, least, energy, efficient, housing, europe, retrofitting, adding, insulation, existing, homes, expensive, mr, stark, says, government, enough, help, fund, costly, work]  britain 789 frequent describ oldest least energi effici hous europe. retrofit - ad insul exist home - expens mr stark say govern enough help fund costli work.   \n",
       "\n",
       "                                                                                                                                                                                        lemmatized  \n",
       "1                                                                                     chris stark, head uk's 123 climate change committee, told bbc rate government policy insulation \"very poor\".  \n",
       "2                                                                                                                       insulation, together renewable 456 power, way current energy crisis, says.  \n",
       "3                                                                                                            two-thirds homes, 19 million, need better 0000 insulation, according government data.  \n",
       "4                                                                                                                                                           raise obvious question: good idea, it?  \n",
       "5                                                                                                                                                                                  key issue cost.  \n",
       "6  britain 789 frequently described oldest least energy efficient housing europe. retrofitting - adding insulation existing home - expensive mr stark say government enough help fund costly work.  "
      ]
     },
     "execution_count": 196,
     "metadata": {},
     "output_type": "execute_result"
    }
   ],
   "source": [
    "tdf"
   ]
  },
  {
   "cell_type": "code",
   "execution_count": null,
   "id": "c01a794a-925c-4945-8563-20deb3324b5e",
   "metadata": {},
   "outputs": [],
   "source": []
  }
 ],
 "metadata": {
  "kernelspec": {
   "display_name": "Python [conda env:base] *",
   "language": "python",
   "name": "conda-base-py"
  },
  "language_info": {
   "codemirror_mode": {
    "name": "ipython",
    "version": 3
   },
   "file_extension": ".py",
   "mimetype": "text/x-python",
   "name": "python",
   "nbconvert_exporter": "python",
   "pygments_lexer": "ipython3",
   "version": "3.12.7"
  }
 },
 "nbformat": 4,
 "nbformat_minor": 5
}
